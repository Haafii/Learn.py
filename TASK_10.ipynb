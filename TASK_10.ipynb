{
  "nbformat": 4,
  "nbformat_minor": 0,
  "metadata": {
    "colab": {
      "name": "TASK 10.ipynb",
      "provenance": [],
      "include_colab_link": true
    },
    "kernelspec": {
      "name": "python3",
      "display_name": "Python 3"
    },
    "language_info": {
      "name": "python"
    }
  },
  "cells": [
    {
      "cell_type": "markdown",
      "metadata": {
        "id": "view-in-github",
        "colab_type": "text"
      },
      "source": [
        "<a href=\"https://colab.research.google.com/github/Haafii/Learn.py/blob/main/TASK_10.ipynb\" target=\"_parent\"><img src=\"https://colab.research.google.com/assets/colab-badge.svg\" alt=\"Open In Colab\"/></a>"
      ]
    },
    {
      "cell_type": "markdown",
      "metadata": {
        "id": "VHKxwUewxOi2"
      },
      "source": [
        "1. Generate two  3 x 3 matrix and find it's dot product and take the transpose of the answer."
      ]
    },
    {
      "cell_type": "code",
      "metadata": {
        "id": "RdyKd1CAxZtR",
        "outputId": "9161c34f-adf3-4eab-f1f6-18702cd09e0e",
        "colab": {
          "base_uri": "https://localhost:8080/"
        }
      },
      "source": [
        "#please provide your answer below this line.\n",
        "import numpy as np\n",
        "\n",
        "a = np.random.randint(1, 9, size=(3, 3))\n",
        "b = np.random.randint(1, 9, size=(3, 3))\n",
        "print(\"1st array\")\n",
        "print(a)\n",
        "print(\"2nd array\")\n",
        "print(b)\n",
        "print(\"the dot product is \")\n",
        "c = np.dot(a, b)\n",
        "print(c)\n",
        "print(\"the transpose is \")\n",
        "print(c.transpose())\n",
        "\n"
      ],
      "execution_count": 2,
      "outputs": [
        {
          "output_type": "stream",
          "text": [
            "1st array\n",
            "[[4 1 8]\n",
            " [1 3 4]\n",
            " [1 8 7]]\n",
            "2nd array\n",
            "[[6 7 8]\n",
            " [2 1 1]\n",
            " [3 6 2]]\n",
            "the dot product is \n",
            "[[50 77 49]\n",
            " [24 34 19]\n",
            " [43 57 30]]\n",
            "the transpose is \n",
            "[[50 24 43]\n",
            " [77 34 57]\n",
            " [49 19 30]]\n"
          ],
          "name": "stdout"
        }
      ]
    },
    {
      "cell_type": "markdown",
      "metadata": {
        "id": "9c9ZwiBxxf4t"
      },
      "source": [
        "2. Create a 3x3 matrix with elements [55,25,15], [30,44,2], [11,45,77] . Now find the determinant of the given matrix."
      ]
    },
    {
      "cell_type": "code",
      "metadata": {
        "id": "Anmr3C9KyNyy",
        "outputId": "82bda4b1-53a5-419b-ec24-ecaba7438d1e",
        "colab": {
          "base_uri": "https://localhost:8080/"
        }
      },
      "source": [
        "#please provide your answer below this line.\n",
        "import numpy as np\n",
        "\n",
        "a=np.array([[55,25,15],[30,44,2],[11,45,77]])\n",
        "print(a)\n",
        "print(\"the determinant is\")\n",
        "print(np.linalg.det(a))"
      ],
      "execution_count": 4,
      "outputs": [
        {
          "output_type": "stream",
          "text": [
            "[[55 25 15]\n",
            " [30 44  2]\n",
            " [11 45 77]]\n",
            "the determinant is\n",
            "137180.0000000001\n"
          ],
          "name": "stdout"
        }
      ]
    }
  ]
}