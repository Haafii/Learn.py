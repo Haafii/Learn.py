{
  "nbformat": 4,
  "nbformat_minor": 0,
  "metadata": {
    "colab": {
      "name": "TASK 11.ipynb",
      "provenance": [],
      "include_colab_link": true
    },
    "kernelspec": {
      "name": "python3",
      "display_name": "Python 3"
    },
    "language_info": {
      "name": "python"
    }
  },
  "cells": [
    {
      "cell_type": "markdown",
      "metadata": {
        "id": "view-in-github",
        "colab_type": "text"
      },
      "source": [
        "<a href=\"https://colab.research.google.com/github/Haafii/Learn.py/blob/main/TASK_11.ipynb\" target=\"_parent\"><img src=\"https://colab.research.google.com/assets/colab-badge.svg\" alt=\"Open In Colab\"/></a>"
      ]
    },
    {
      "cell_type": "markdown",
      "metadata": {
        "id": "Ud2gZIbu6E59"
      },
      "source": [
        "N.B: Please find the answers by applying the functions on the matrices"
      ]
    },
    {
      "cell_type": "markdown",
      "metadata": {
        "id": "_9JX1Vdn4sTN"
      },
      "source": [
        "1. Create 2 3×3 matrix with 0-8 and 10-19 as elements in each and perform the vectorize multiplication operations on the matrices.(Outer product, Dot product, Element wise product)."
      ]
    },
    {
      "cell_type": "code",
      "metadata": {
        "id": "aBzAn6Z75VQ6",
        "colab": {
          "base_uri": "https://localhost:8080/"
        },
        "outputId": "eac09afa-f1eb-4fbd-c11b-0a297671d0b3"
      },
      "source": [
        "#please type your answer below this line.\n",
        "import numpy as np\n",
        "\n",
        "a = np.random.randint(0, 9, size=(3, 3))\n",
        "b = np.random.randint(10, 20, size=(3, 3))\n",
        "print(\"1st array\")\n",
        "print(a)\n",
        "print(\"2nd array\")\n",
        "print(b)\n",
        "print(\"outer product \")\n",
        "print(np.outer(a, b))\n",
        "print(\"The dot product is \")\n",
        "print(np.dot(a, b))\n",
        "print(\"Element wise product is\")\n",
        "print(a * b)\n"
      ],
      "execution_count": null,
      "outputs": [
        {
          "output_type": "stream",
          "text": [
            "1st array\n",
            "[[8 1 5]\n",
            " [2 4 4]\n",
            " [5 3 4]]\n",
            "2nd array\n",
            "[[17 10 16]\n",
            " [18 19 15]\n",
            " [13 17 12]]\n",
            "outer product \n",
            "[[136  80 128 144 152 120 104 136  96]\n",
            " [ 17  10  16  18  19  15  13  17  12]\n",
            " [ 85  50  80  90  95  75  65  85  60]\n",
            " [ 34  20  32  36  38  30  26  34  24]\n",
            " [ 68  40  64  72  76  60  52  68  48]\n",
            " [ 68  40  64  72  76  60  52  68  48]\n",
            " [ 85  50  80  90  95  75  65  85  60]\n",
            " [ 51  30  48  54  57  45  39  51  36]\n",
            " [ 68  40  64  72  76  60  52  68  48]]\n",
            "The dot product is \n",
            "[[219 184 203]\n",
            " [158 164 140]\n",
            " [191 175 173]]\n",
            "Element wise product is\n",
            "[[136  10  80]\n",
            " [ 36  76  60]\n",
            " [ 65  51  48]]\n"
          ],
          "name": "stdout"
        }
      ]
    },
    {
      "cell_type": "markdown",
      "metadata": {
        "id": "gJGtIjx25k92"
      },
      "source": [
        "2. Create a 4×4 matrix with 0-16  as elements in it. Add a scalar 4 to the matrix and also multiply it with [1,2,3,4] 1-D matrix by broadcasting. ( Please note to do both the addition and multiplication by broadcasting.)"
      ]
    },
    {
      "cell_type": "code",
      "metadata": {
        "id": "H7cznh8M56r-",
        "colab": {
          "base_uri": "https://localhost:8080/"
        },
        "outputId": "07041a50-d24a-4b47-eea9-25d97ae996a2"
      },
      "source": [
        "#please type your answer below this line.\n",
        "import numpy as np\n",
        "\n",
        "a = np.random.randint(0, 17, size=(4, 4))\n",
        "print(\"the array is \")\n",
        "print(a)\n",
        "print(\"4 added\")\n",
        "print(a + 4)\n",
        "b=np.array([1,2,3,4])\n",
        "print(\"after multiply it with [1,2,3,4] \")\n",
        "print((a+4)*b)"
      ],
      "execution_count": 1,
      "outputs": [
        {
          "output_type": "stream",
          "text": [
            "the array is \n",
            "[[ 3  4 13 15]\n",
            " [ 9 11 11 12]\n",
            " [10 12 12  5]\n",
            " [ 9 14  4  2]]\n",
            "4 added\n",
            "[[ 7  8 17 19]\n",
            " [13 15 15 16]\n",
            " [14 16 16  9]\n",
            " [13 18  8  6]]\n",
            "after multiply it with [1,2,3,4] \n",
            "[[ 7 16 51 76]\n",
            " [13 30 45 64]\n",
            " [14 32 48 36]\n",
            " [13 36 24 24]]\n"
          ],
          "name": "stdout"
        }
      ]
    }
  ]
}