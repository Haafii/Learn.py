{
  "nbformat": 4,
  "nbformat_minor": 0,
  "metadata": {
    "colab": {
      "name": "TASK 13.ipynb",
      "provenance": [],
      "include_colab_link": true
    },
    "kernelspec": {
      "name": "python3",
      "display_name": "Python 3"
    },
    "language_info": {
      "name": "python"
    }
  },
  "cells": [
    {
      "cell_type": "markdown",
      "metadata": {
        "id": "view-in-github",
        "colab_type": "text"
      },
      "source": [
        "<a href=\"https://colab.research.google.com/github/Haafii/Learn.py/blob/main/TASK_13.ipynb\" target=\"_parent\"><img src=\"https://colab.research.google.com/assets/colab-badge.svg\" alt=\"Open In Colab\"/></a>"
      ]
    },
    {
      "cell_type": "markdown",
      "metadata": {
        "id": "RUSoRkrOqNwf"
      },
      "source": [
        "1. Create a 3x3 array values ranging from 0-8.Find the sum of the elements in this array."
      ]
    },
    {
      "cell_type": "code",
      "metadata": {
        "id": "t01ATYQpqq8u",
        "outputId": "324a6277-8603-4466-bcc2-628f22b0f2ad",
        "colab": {
          "base_uri": "https://localhost:8080/"
        }
      },
      "source": [
        "#please enter your code below this line.\n",
        "import numpy as np\n",
        "\n",
        "a=np.arange(0,9).reshape(3,3)\n",
        "print(a.sum())"
      ],
      "execution_count": 1,
      "outputs": [
        {
          "output_type": "stream",
          "text": [
            "36\n"
          ],
          "name": "stdout"
        }
      ]
    },
    {
      "cell_type": "markdown",
      "metadata": {
        "id": "k3Y7nQF7r3IW"
      },
      "source": [
        "2. Create a 3x3 array values ranging from 0-8.Find the row sum and column sum of this array."
      ]
    },
    {
      "cell_type": "code",
      "metadata": {
        "id": "BzvIlWfvsICv",
        "outputId": "2a8e7877-d7be-4595-d3d5-919b53f6f9dd",
        "colab": {
          "base_uri": "https://localhost:8080/"
        }
      },
      "source": [
        "#please enter your code below this line.\n",
        "import numpy as np\n",
        "\n",
        "a=np.arange(0,9).reshape(3,3)\n",
        "print(\"sum of rows\")\n",
        "print(a.sum(axis=1))\n",
        "print(\"sum of columns \")\n",
        "print(a.sum(axis=0))"
      ],
      "execution_count": 2,
      "outputs": [
        {
          "output_type": "stream",
          "text": [
            "sum of rows\n",
            "[ 3 12 21]\n",
            "sum of columns \n",
            "[ 9 12 15]\n"
          ],
          "name": "stdout"
        }
      ]
    },
    {
      "cell_type": "markdown",
      "metadata": {
        "id": "KOPMsbnrsgue"
      },
      "source": [
        "3. Create a 4x4 array values ranging from 0-15. Now,\n",
        "\n",
        "    a) Find the mininmum value in the array.\n",
        "    \n",
        "    b) Find the maximum value in the array.\n",
        "\n",
        "    c) Find the mean of the values in the array."
      ]
    },
    {
      "cell_type": "code",
      "metadata": {
        "id": "1UzITxp3WDaW",
        "outputId": "b77d39c0-e940-4ffb-d60f-800e5b9c2843",
        "colab": {
          "base_uri": "https://localhost:8080/"
        }
      },
      "source": [
        "#please enter your code belowthis line.\n",
        "import numpy as np\n",
        "\n",
        "a=np.arange(0,16).reshape(4,4)\n",
        "print(a.min())\n",
        "print(a.max())\n",
        "print(a.mean())"
      ],
      "execution_count": 3,
      "outputs": [
        {
          "output_type": "stream",
          "text": [
            "0\n",
            "15\n",
            "7.5\n"
          ],
          "name": "stdout"
        }
      ]
    },
    {
      "cell_type": "markdown",
      "metadata": {
        "id": "Pah9qGButoz2"
      },
      "source": [
        "4. Create an 10x10 array values ranging from 0-99.And ,\n",
        "\n",
        "    a) Print the 7th row.\n",
        "    \n",
        "    b) Print the rows from 4-8.\n",
        "\n",
        "    c) Print the value at the index 5,5.\n",
        "\n",
        "    d) Print the 5th colomn.\n",
        "\n",
        "    e) Print the columns from 2-5."
      ]
    },
    {
      "cell_type": "code",
      "metadata": {
        "id": "JFXPq0GkvhKi",
        "outputId": "de646d16-48a4-4f55-cbe0-79218c30744c",
        "colab": {
          "base_uri": "https://localhost:8080/"
        }
      },
      "source": [
        "#please enter your code below this line.\n",
        "import numpy as np\n",
        "\n",
        "a=np.arange(0,100).reshape(10,10)\n",
        "print(\"7th row is \")\n",
        "print(a[6,:])\n",
        "print(\"rows from 4 to 8\")\n",
        "print(a[3,:])\n",
        "print(a[4,:])\n",
        "print(a[5,:])\n",
        "print(a[6,:])\n",
        "print(\"value at index 5,5\")\n",
        "print(a[4,4])\n",
        "print(\"5th column \")\n",
        "print(a[:,4])\n",
        "print(\"columns from 2 to 5\")\n",
        "print(a[:,1])\n",
        "print(a[:,2])\n",
        "print(a[:,3])\n",
        "print(a[:,4])"
      ],
      "execution_count": 5,
      "outputs": [
        {
          "output_type": "stream",
          "text": [
            "7th row is \n",
            "[60 61 62 63 64 65 66 67 68 69]\n",
            "rows from 4 to 8\n",
            "[30 31 32 33 34 35 36 37 38 39]\n",
            "[40 41 42 43 44 45 46 47 48 49]\n",
            "[50 51 52 53 54 55 56 57 58 59]\n",
            "[60 61 62 63 64 65 66 67 68 69]\n",
            "value at index 5,5\n",
            "44\n",
            "5th column \n",
            "[ 4 14 24 34 44 54 64 74 84 94]\n",
            "columns from 2 to 5\n",
            "[ 1 11 21 31 41 51 61 71 81 91]\n",
            "[ 2 12 22 32 42 52 62 72 82 92]\n",
            "[ 3 13 23 33 43 53 63 73 83 93]\n",
            "[ 4 14 24 34 44 54 64 74 84 94]\n"
          ],
          "name": "stdout"
        }
      ]
    }
  ]
}