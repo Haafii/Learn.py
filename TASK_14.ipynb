{
  "nbformat": 4,
  "nbformat_minor": 0,
  "metadata": {
    "colab": {
      "name": "TASK 14.ipynb",
      "provenance": [],
      "include_colab_link": true
    },
    "kernelspec": {
      "name": "python3",
      "display_name": "Python 3"
    },
    "language_info": {
      "name": "python"
    }
  },
  "cells": [
    {
      "cell_type": "markdown",
      "metadata": {
        "id": "view-in-github",
        "colab_type": "text"
      },
      "source": [
        "<a href=\"https://colab.research.google.com/github/Haafii/Learn.py/blob/main/TASK_14.ipynb\" target=\"_parent\"><img src=\"https://colab.research.google.com/assets/colab-badge.svg\" alt=\"Open In Colab\"/></a>"
      ]
    },
    {
      "cell_type": "markdown",
      "metadata": {
        "id": "pDx7KyZoXYNb"
      },
      "source": [
        "1. Create two arrays, one containing elements [1,2], [3,4] and another containing elements [8,18] Now find the solution for this linear equation."
      ]
    },
    {
      "cell_type": "code",
      "metadata": {
        "id": "1HQu2yB2YMbj",
        "colab": {
          "base_uri": "https://localhost:8080/"
        },
        "outputId": "f92ec63f-fbec-4f56-d2a6-3bc7c991d1f4"
      },
      "source": [
        "#please type your answer below this line.\n",
        "import numpy as np\n",
        "\n",
        "a = np.array([[1,2],[3,4]])\n",
        "b=np.array([8,18])\n",
        "x=np.linalg.solve(a,b)\n",
        "print(\"solution is\",x)"
      ],
      "execution_count": 7,
      "outputs": [
        {
          "output_type": "stream",
          "text": [
            "solution is [2. 3.]\n"
          ],
          "name": "stdout"
        }
      ]
    },
    {
      "cell_type": "markdown",
      "metadata": {
        "id": "RyDr51p8ZxQp"
      },
      "source": [
        "2. Create an array containing elements [2, 3, 4]. Now find the sin,cos,tan values of this array elements."
      ]
    },
    {
      "cell_type": "code",
      "metadata": {
        "id": "iXZByHNOaXbk",
        "colab": {
          "base_uri": "https://localhost:8080/"
        },
        "outputId": "0974924c-30b6-420b-cae1-02df049e0943"
      },
      "source": [
        "#please type your answer below this line.\n",
        "import numpy as np\n",
        "\n",
        "a = np.array([2, 3, 4])\n",
        "print(\"sin\", np.sin(a))\n",
        "print(\"cos\", np.cos(a))\n",
        "print(\"tan\", np.tan(a))\n"
      ],
      "execution_count": 2,
      "outputs": [
        {
          "output_type": "stream",
          "text": [
            "sin [ 0.90929743  0.14112001 -0.7568025 ]\n",
            "cos [-0.41614684 -0.9899925  -0.65364362]\n",
            "tan [-2.18503986 -0.14254654  1.15782128]\n"
          ],
          "name": "stdout"
        }
      ]
    },
    {
      "cell_type": "markdown",
      "metadata": {
        "id": "Itk2DMc6b60J"
      },
      "source": [
        "3. Given b=[5,6], then find,\n",
        "\n",
        "  a) 2sinb\n",
        "  b) 2cos3b\n",
        "  c) 4tan2b"
      ]
    },
    {
      "cell_type": "code",
      "metadata": {
        "id": "lgxpIaKebw5y",
        "colab": {
          "base_uri": "https://localhost:8080/"
        },
        "outputId": "40619c52-0718-4436-8590-35e50fab49f0"
      },
      "source": [
        "#please type your answer below this line.\n",
        "import numpy as np\n",
        "\n",
        "a = np.array([5,6])\n",
        "print(\"2 sin(a)\", 2*(np.sin(a)))\n",
        "print(\"2 cos(3a)\", 2 * (np.cos(3 * a)))\n",
        "print(\"4 tan(2a)\", 4 * (np.tan(2 * a)))"
      ],
      "execution_count": 5,
      "outputs": [
        {
          "output_type": "stream",
          "text": [
            "2 sin(a) [-1.91784855 -0.558831  ]\n",
            "2 cos(3a) [-1.51937583  1.32063342]\n",
            "4 tan(2a) [ 2.59344331 -2.54343971]\n"
          ],
          "name": "stdout"
        }
      ]
    }
  ]
}