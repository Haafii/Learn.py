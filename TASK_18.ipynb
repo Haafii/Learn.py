{
  "nbformat": 4,
  "nbformat_minor": 0,
  "metadata": {
    "colab": {
      "name": "TASK 18.ipynb",
      "provenance": [],
      "include_colab_link": true
    },
    "kernelspec": {
      "name": "python3",
      "display_name": "Python 3"
    },
    "language_info": {
      "name": "python"
    }
  },
  "cells": [
    {
      "cell_type": "markdown",
      "metadata": {
        "id": "view-in-github",
        "colab_type": "text"
      },
      "source": [
        "<a href=\"https://colab.research.google.com/github/Haafii/Learn.py/blob/main/TASK_18.ipynb\" target=\"_parent\"><img src=\"https://colab.research.google.com/assets/colab-badge.svg\" alt=\"Open In Colab\"/></a>"
      ]
    },
    {
      "cell_type": "markdown",
      "metadata": {
        "id": "_JgXT8pEAjU4"
      },
      "source": [
        "1. \n",
        "Create a DataFrame by passing a random numpy array,with a datetie index and labelled columns.and,\n",
        "    - slice its first three rows and display.\n",
        "    - slice its odd indexed rows.\n",
        "    - display the dates from 1st postion to 4 th position."
      ]
    },
    {
      "cell_type": "code",
      "metadata": {
        "id": "5zFM5VOJBKBV",
        "outputId": "d9db6127-59c8-4d1f-a1d6-3b1db3652f8b",
        "colab": {
          "base_uri": "https://localhost:8080/"
        }
      },
      "source": [
        "#please provide your answer below this line.\n",
        "import numpy as np\n",
        "import pandas as pd\n",
        "dates = pd.date_range('20190101', periods=6)\n",
        "dates\n",
        "df=pd.DataFrame(np.random.randn(6, 4), index=dates, columns=list('ABCD'))\n",
        "print(df)\n",
        "print(df.head(3))\n",
        "print(df[0:7:2])\n",
        "print(df[0:4])"
      ],
      "execution_count": 15,
      "outputs": [
        {
          "output_type": "stream",
          "name": "stdout",
          "text": [
            "                   A         B         C         D\n",
            "2019-01-01  0.454284 -0.254174  0.162026 -2.172868\n",
            "2019-01-02 -1.659880  0.689372  0.415554  0.749483\n",
            "2019-01-03 -0.984434 -0.562907 -0.725334 -0.475097\n",
            "2019-01-04 -0.264228  0.009536  0.416878  0.422286\n",
            "2019-01-05  1.204952 -1.973618  0.083872  0.393721\n",
            "2019-01-06 -1.896438  0.087663 -1.100820 -1.899552\n",
            "                   A         B         C         D\n",
            "2019-01-01  0.454284 -0.254174  0.162026 -2.172868\n",
            "2019-01-02 -1.659880  0.689372  0.415554  0.749483\n",
            "2019-01-03 -0.984434 -0.562907 -0.725334 -0.475097\n",
            "                   A         B         C         D\n",
            "2019-01-01  0.454284 -0.254174  0.162026 -2.172868\n",
            "2019-01-03 -0.984434 -0.562907 -0.725334 -0.475097\n",
            "2019-01-05  1.204952 -1.973618  0.083872  0.393721\n",
            "                   A         B         C         D\n",
            "2019-01-01  0.454284 -0.254174  0.162026 -2.172868\n",
            "2019-01-02 -1.659880  0.689372  0.415554  0.749483\n",
            "2019-01-03 -0.984434 -0.562907 -0.725334 -0.475097\n",
            "2019-01-04 -0.264228  0.009536  0.416878  0.422286\n"
          ]
        }
      ]
    },
    {
      "cell_type": "markdown",
      "metadata": {
        "id": "QuoucvjxBPmX"
      },
      "source": [
        "2. Create a DataFrame by passing a random numpy array,with a datetie index and labelled columns.and\n",
        "  - Dislplay the index from the 1 to 3 date and the columns A and B of respective data.\n",
        "  - Display the datas at the 3rd index.\n",
        "  - Display datas from 2nd to 5th.\n",
        "  - Display the datas from the index 1,2,4 and the column 0 and 2."
      ]
    },
    {
      "cell_type": "code",
      "metadata": {
        "id": "qV_wzsp1DUKI",
        "outputId": "3eef35ee-0a3c-4728-ed17-7566d55de53a",
        "colab": {
          "base_uri": "https://localhost:8080/"
        }
      },
      "source": [
        "#please provide your answer below thins line.\n",
        "import numpy as np\n",
        "import pandas as pd\n",
        "dates = pd.date_range('20190101', periods=6)\n",
        "dates\n",
        "df=pd.DataFrame(np.random.randn(6, 4), index=dates, columns=list('ABCD'))\n",
        "print(df)\n",
        "print(df.iloc[0:3,0:2])\n",
        "print(df[2:3])\n",
        "print(df[1:5])\n",
        "print(df.loc[['2019-01-01','2019-01-02','2019-01-04'],['A','C']])"
      ],
      "execution_count": 31,
      "outputs": [
        {
          "output_type": "stream",
          "name": "stdout",
          "text": [
            "                   A         B         C         D\n",
            "2019-01-01 -2.145632 -0.175894 -0.125294 -1.199213\n",
            "2019-01-02 -0.552096  0.303199 -1.326344  0.439447\n",
            "2019-01-03  0.456367 -1.464873  0.364794  0.865732\n",
            "2019-01-04 -1.007938 -0.423156  1.520581  0.140943\n",
            "2019-01-05 -0.916468 -1.695116 -0.442492  0.306291\n",
            "2019-01-06  0.771598 -0.637463 -1.561368 -0.065270\n",
            "                   A         B\n",
            "2019-01-01 -2.145632 -0.175894\n",
            "2019-01-02 -0.552096  0.303199\n",
            "2019-01-03  0.456367 -1.464873\n",
            "                   A         B         C         D\n",
            "2019-01-03  0.456367 -1.464873  0.364794  0.865732\n",
            "                   A         B         C         D\n",
            "2019-01-02 -0.552096  0.303199 -1.326344  0.439447\n",
            "2019-01-03  0.456367 -1.464873  0.364794  0.865732\n",
            "2019-01-04 -1.007938 -0.423156  1.520581  0.140943\n",
            "2019-01-05 -0.916468 -1.695116 -0.442492  0.306291\n",
            "                   A         C\n",
            "2019-01-01 -2.145632 -0.125294\n",
            "2019-01-02 -0.552096 -1.326344\n",
            "2019-01-04 -1.007938  1.520581\n"
          ]
        }
      ]
    }
  ]
}