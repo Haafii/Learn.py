{
  "nbformat": 4,
  "nbformat_minor": 0,
  "metadata": {
    "colab": {
      "name": "TASK  7.ipynb",
      "provenance": [],
      "include_colab_link": true
    },
    "kernelspec": {
      "name": "python3",
      "display_name": "Python 3"
    },
    "language_info": {
      "name": "python"
    }
  },
  "cells": [
    {
      "cell_type": "markdown",
      "metadata": {
        "id": "view-in-github",
        "colab_type": "text"
      },
      "source": [
        "<a href=\"https://colab.research.google.com/github/Haafii/Learn.py/blob/main/TASK_7.ipynb\" target=\"_parent\"><img src=\"https://colab.research.google.com/assets/colab-badge.svg\" alt=\"Open In Colab\"/></a>"
      ]
    },
    {
      "cell_type": "markdown",
      "metadata": {
        "id": "b0V3vwzcydKy"
      },
      "source": [
        "1. Write a program to check whether a  string is palindrome or not using functions. \n",
        "\n",
        "   ( A function is to be created to check whether the string is palindrome and it should give the output true or false to the main program)"
      ]
    },
    {
      "cell_type": "code",
      "metadata": {
        "id": "M2Mi7EOdyxiu",
        "outputId": "99ae154a-5df1-4933-b29a-4a9a0b00573d",
        "colab": {
          "base_uri": "https://localhost:8080/"
        }
      },
      "source": [
        "#please enter the code below this line.\n",
        "def palindrome(txt):\n",
        "    temp=txt[::-1]\n",
        "    if txt==temp:\n",
        "        print(\"palindrome\")\n",
        "    else:\n",
        "        print(\"non palindrome\")\n",
        "palindrome(input(\"Enter a string:\"))"
      ],
      "execution_count": 1,
      "outputs": [
        {
          "output_type": "stream",
          "text": [
            "Enter a string:malayalam\n",
            "palindrome\n"
          ],
          "name": "stdout"
        }
      ]
    },
    {
      "cell_type": "markdown",
      "metadata": {
        "id": "vSiShTyOzEz-"
      },
      "source": [
        "2.  Write a menu driven program to find largest element in L, smallest element, avg of all values, sum of all values in L. All these operation should be performed in different functions and the result should be returned.\n",
        "\n",
        "\n",
        "      L=[23,24,11,90,1,41,9,99,28,56,72]"
      ]
    },
    {
      "cell_type": "code",
      "metadata": {
        "id": "fRtMIw_CzsmO",
        "outputId": "caf92456-7b32-4d60-b4aa-311d8cf3a91a",
        "colab": {
          "base_uri": "https://localhost:8080/"
        }
      },
      "source": [
        "#please enter the code below this line.\n",
        "def large():\n",
        "    l=[23,24,11,90,1,41,9,99,28,56,72]\n",
        "    return max(l)\n",
        "def small():\n",
        "    l=[23,24,11,90,1,41,9,99,28,56,72]\n",
        "    return min(l)\n",
        "def avg():\n",
        "    l=[23,24,11,90,1,41,9,99,28,56,72]\n",
        "    sum=0\n",
        "    for i in range(len(l)):\n",
        "        sum=sum+l[i]\n",
        "    return (sum/len(l))\n",
        "def sum():\n",
        "    l=[23,24,11,90,1,41,9,99,28,56,72]\n",
        "    sum=0\n",
        "    for i in range(len(l)):\n",
        "        sum=sum+l[i]\n",
        "    return sum\n",
        "max_value=large()\n",
        "min_value=small()\n",
        "avg_value=avg()\n",
        "sum=sum()\n",
        "print(\"Max value is \",max_value)\n",
        "print(\"Miin value is \",min_value)\n",
        "print(\"Avarage of values is \",avg_value)\n",
        "print(\"Sum of values is \",sum)\n"
      ],
      "execution_count": 1,
      "outputs": [
        {
          "output_type": "stream",
          "text": [
            "Max value is  99\n",
            "Miin value is  1\n",
            "Avarage of values is  41.27272727272727\n",
            "Sum of values is  454\n"
          ],
          "name": "stdout"
        }
      ]
    }
  ]
}