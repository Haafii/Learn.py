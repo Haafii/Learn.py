{
  "nbformat": 4,
  "nbformat_minor": 0,
  "metadata": {
    "colab": {
      "name": "TASK 8.ipynb",
      "provenance": [],
      "include_colab_link": true
    },
    "kernelspec": {
      "name": "python3",
      "display_name": "Python 3"
    },
    "language_info": {
      "name": "python"
    }
  },
  "cells": [
    {
      "cell_type": "markdown",
      "metadata": {
        "id": "view-in-github",
        "colab_type": "text"
      },
      "source": [
        "<a href=\"https://colab.research.google.com/github/Haafii/Learn.py/blob/main/TASK_8.ipynb\" target=\"_parent\"><img src=\"https://colab.research.google.com/assets/colab-badge.svg\" alt=\"Open In Colab\"/></a>"
      ]
    },
    {
      "cell_type": "markdown",
      "metadata": {
        "id": "slsGswYbJSo7"
      },
      "source": [
        "1. Generate a 3 x 3 matrix using random module."
      ]
    },
    {
      "cell_type": "code",
      "metadata": {
        "id": "GGRQSYyNJW9t",
        "outputId": "b5402d5d-4ad7-4bac-e737-7ec5bb069219",
        "colab": {
          "base_uri": "https://localhost:8080/"
        }
      },
      "source": [
        "#please provide your answer below this line.\n",
        "import numpy as np\n",
        "a=np.random.rand(3,3)\n",
        "print(a)"
      ],
      "execution_count": 3,
      "outputs": [
        {
          "output_type": "stream",
          "text": [
            "[[0.66494552 0.18958952 0.90619475]\n",
            " [0.39874593 0.41969947 0.07029026]\n",
            " [0.76623748 0.80607485 0.20805445]]\n"
          ],
          "name": "stdout"
        }
      ]
    },
    {
      "cell_type": "markdown",
      "metadata": {
        "id": "4OB9KFX6JfYA"
      },
      "source": [
        "2. Generate two 4 x 4 matrix using numpy and \n",
        "\n",
        " a) Reshape it to 2 x 8matrix and vertically stack it.\n",
        "\n",
        " b) Reshape it to 2 x 8 matrix and horizontally stack it."
      ]
    },
    {
      "cell_type": "code",
      "metadata": {
        "id": "VoIqYeNWJ4H_",
        "outputId": "e43d6b6e-27a6-4d39-bbc6-5085c4b70ec1",
        "colab": {
          "base_uri": "https://localhost:8080/"
        }
      },
      "source": [
        "#please provide your answer below this line.\n",
        "import numpy as np\n",
        "\n",
        "a = np.random.randint(0, 5, size=(4, 4))\n",
        "b = np.random.randint(0, 5, size=(4, 4))\n",
        "c = a.reshape(2, 8)\n",
        "d = b.reshape(2, 8)\n",
        "print(\"Vertical stack\")\n",
        "print(np.vstack((c, d)))\n",
        "print(\"Horizontal stack\")\n",
        "print(np.hstack((c, d)))\n"
      ],
      "execution_count": 1,
      "outputs": [
        {
          "output_type": "stream",
          "text": [
            "Vertical stack\n",
            "[[4 2 3 4 3 2 4 4]\n",
            " [3 3 1 1 1 4 2 3]\n",
            " [0 1 1 2 2 4 2 4]\n",
            " [4 0 2 2 0 4 3 1]]\n",
            "Horizontal stack\n",
            "[[4 2 3 4 3 2 4 4 0 1 1 2 2 4 2 4]\n",
            " [3 3 1 1 1 4 2 3 4 0 2 2 0 4 3 1]]\n"
          ],
          "name": "stdout"
        }
      ]
    }
  ]
}